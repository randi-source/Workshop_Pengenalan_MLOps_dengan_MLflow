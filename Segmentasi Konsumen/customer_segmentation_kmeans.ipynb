{
 "cells": [
  {
   "cell_type": "markdown",
   "metadata": {},
   "source": [
    "### Konteks\n",
    "Anda memiliki bisnis supermarket mall dan melalui kartu member, anda memiliki informasi dasar dari pelanggan anda seperti id pelanggan, umur, jenis kelamin, penghasilan tahunan, dan skor pengeluaran. Skor pengeluaran merupakan nilai yang didasarkan pada pendekatan heuristik berdasarkan perilaku konsumen dan data pembelian.\n",
    "\n",
    "### Statmen Permasalahan\n",
    "Anda memiliki bisnis supermarket dan ingin memahami konsumen anda dengan mengidentifikasi siapa saja konsumen yang berpotensi menjadi target konsumen dan menjadi insight bagi tim marketing anda untuk merencanakan strategi pemasaran dengan tepat.\n",
    "\n",
    "### Data\n",
    "Berikut adalah informasi yang anda miliki:\n",
    "* customer_id : ID pelanggan\n",
    "* gender : Jenis kelamin pelanggan\n",
    "* age : Umur pelanggan\n",
    "* annual_income : Penghasilan tahunan pelanggan dalam K$\n",
    "* spending_score : Skor pengeluaran pelanggan berdasarkan perilaku konsumen dan data pembelian pada rentang 0-100\n",
    "\n",
    "### Analisis\n",
    "* Melakukan proses segmentasi sederhana dengan algoritma KMeans++\n",
    "* Melakukan tracking pada pembuatan model dan ML artifact\n",
    "* Meregister model\n",
    "* Melakukan model staging ke stage production \n",
    "* Melakukan prediksi batch menggunakan model di stage production"
   ]
  },
  {
   "cell_type": "code",
   "execution_count": 120,
   "metadata": {},
   "outputs": [],
   "source": [
    "import numpy as np\n",
    "import pandas as pd\n",
    "import matplotlib.pyplot as plt\n",
    "import seaborn as sns\n",
    "from sklearn.cluster import KMeans\n",
    "from sklearn.pipeline import Pipeline\n",
    "\n",
    "import mlflow\n",
    "import mlflow.sklearn\n",
    "from mlflow.models.signature import infer_signature\n",
    "from mlflow.tracking import MlflowClient\n",
    "\n",
    "import os\n",
    "os.environ['OMP_NUM_THREADS']='1'\n",
    "\n",
    "import warnings\n",
    "warnings.filterwarnings(\"ignore\")"
   ]
  },
  {
   "cell_type": "code",
   "execution_count": 121,
   "metadata": {},
   "outputs": [
    {
     "data": {
      "text/plain": [
       "<Experiment: artifact_location='file:///mlflow/mlruns/3', experiment_id='3', lifecycle_stage='active', name='customer_segmentation', tags={}>"
      ]
     },
     "execution_count": 121,
     "metadata": {},
     "output_type": "execute_result"
    }
   ],
   "source": [
    "mlflow.set_tracking_uri(\"http://localhost:8001\")\n",
    "mlflow.set_experiment(\"customer_segmentation\")"
   ]
  },
  {
   "cell_type": "code",
   "execution_count": 122,
   "metadata": {},
   "outputs": [],
   "source": [
    "df = pd.read_csv('D:\\mlflow\\Backup\\customer segmentation\\Mall_Customers.csv')"
   ]
  },
  {
   "cell_type": "code",
   "execution_count": 123,
   "metadata": {},
   "outputs": [
    {
     "data": {
      "text/html": [
       "<div>\n",
       "<style scoped>\n",
       "    .dataframe tbody tr th:only-of-type {\n",
       "        vertical-align: middle;\n",
       "    }\n",
       "\n",
       "    .dataframe tbody tr th {\n",
       "        vertical-align: top;\n",
       "    }\n",
       "\n",
       "    .dataframe thead th {\n",
       "        text-align: right;\n",
       "    }\n",
       "</style>\n",
       "<table border=\"1\" class=\"dataframe\">\n",
       "  <thead>\n",
       "    <tr style=\"text-align: right;\">\n",
       "      <th></th>\n",
       "      <th>customer_id</th>\n",
       "      <th>gender</th>\n",
       "      <th>age</th>\n",
       "      <th>annual_income</th>\n",
       "      <th>spending_score</th>\n",
       "    </tr>\n",
       "  </thead>\n",
       "  <tbody>\n",
       "    <tr>\n",
       "      <th>0</th>\n",
       "      <td>1</td>\n",
       "      <td>1</td>\n",
       "      <td>19</td>\n",
       "      <td>15</td>\n",
       "      <td>39</td>\n",
       "    </tr>\n",
       "    <tr>\n",
       "      <th>1</th>\n",
       "      <td>2</td>\n",
       "      <td>1</td>\n",
       "      <td>21</td>\n",
       "      <td>15</td>\n",
       "      <td>81</td>\n",
       "    </tr>\n",
       "    <tr>\n",
       "      <th>2</th>\n",
       "      <td>3</td>\n",
       "      <td>0</td>\n",
       "      <td>20</td>\n",
       "      <td>16</td>\n",
       "      <td>6</td>\n",
       "    </tr>\n",
       "    <tr>\n",
       "      <th>3</th>\n",
       "      <td>4</td>\n",
       "      <td>0</td>\n",
       "      <td>23</td>\n",
       "      <td>16</td>\n",
       "      <td>77</td>\n",
       "    </tr>\n",
       "    <tr>\n",
       "      <th>4</th>\n",
       "      <td>5</td>\n",
       "      <td>0</td>\n",
       "      <td>31</td>\n",
       "      <td>17</td>\n",
       "      <td>40</td>\n",
       "    </tr>\n",
       "  </tbody>\n",
       "</table>\n",
       "</div>"
      ],
      "text/plain": [
       "   customer_id  gender  age  annual_income   spending_score\n",
       "0            1       1   19              15              39\n",
       "1            2       1   21              15              81\n",
       "2            3       0   20              16               6\n",
       "3            4       0   23              16              77\n",
       "4            5       0   31              17              40"
      ]
     },
     "execution_count": 123,
     "metadata": {},
     "output_type": "execute_result"
    }
   ],
   "source": [
    "df.head()"
   ]
  },
  {
   "cell_type": "code",
   "execution_count": 124,
   "metadata": {},
   "outputs": [
    {
     "data": {
      "text/plain": [
       "(200, 5)"
      ]
     },
     "execution_count": 124,
     "metadata": {},
     "output_type": "execute_result"
    }
   ],
   "source": [
    "df.shape"
   ]
  },
  {
   "cell_type": "code",
   "execution_count": 125,
   "metadata": {},
   "outputs": [
    {
     "name": "stdout",
     "output_type": "stream",
     "text": [
      "<class 'pandas.core.frame.DataFrame'>\n",
      "RangeIndex: 200 entries, 0 to 199\n",
      "Data columns (total 5 columns):\n",
      " #   Column          Non-Null Count  Dtype\n",
      "---  ------          --------------  -----\n",
      " 0   customer_id     200 non-null    int64\n",
      " 1   gender          200 non-null    int64\n",
      " 2   age             200 non-null    int64\n",
      " 3   annual_income   200 non-null    int64\n",
      " 4   spending_score  200 non-null    int64\n",
      "dtypes: int64(5)\n",
      "memory usage: 7.9 KB\n"
     ]
    }
   ],
   "source": [
    "df.info()"
   ]
  },
  {
   "cell_type": "code",
   "execution_count": 126,
   "metadata": {},
   "outputs": [],
   "source": [
    "X = df.iloc[:,[3,4]].values"
   ]
  },
  {
   "cell_type": "code",
   "execution_count": 127,
   "metadata": {},
   "outputs": [],
   "source": [
    "wcss = []\n",
    "\n",
    "for i in range(1,11):\n",
    "    kmeans = KMeans(n_clusters=i,init='k-means++',random_state=30)\n",
    "    kmeans.fit(X)\n",
    "    wcss.append(kmeans.inertia_)"
   ]
  },
  {
   "cell_type": "code",
   "execution_count": 128,
   "metadata": {},
   "outputs": [
    {
     "data": {
      "image/png": "[encoded data removed]",
      "text/plain": [
       "<Figure size 432x288 with 1 Axes>"
      ]
     },
     "metadata": {},
     "output_type": "display_data"
    }
   ],
   "source": [
    "sns.set()\n",
    "plt.plot(range(1,11), wcss)\n",
    "plt.title('The elbow Point Graph')\n",
    "plt.xlabel('Number of Clusters')\n",
    "plt.ylabel('WCSS')\n",
    "plt.savefig(fname='Elbow Plot')\n",
    "plt.show()"
   ]
  },
  {
   "cell_type": "code",
   "execution_count": 129,
   "metadata": {},
   "outputs": [],
   "source": [
    "class columnDropperTransformer():\n",
    "    def __init__(self,columns):\n",
    "        self.columns=columns\n",
    "\n",
    "    def transform(self,X,y=None):\n",
    "        return X.drop(self.columns,axis=1).values\n",
    "\n",
    "    def fit(self, X, y=None):\n",
    "        return self "
   ]
  },
  {
   "cell_type": "code",
   "execution_count": 130,
   "metadata": {},
   "outputs": [
    {
     "name": "stdout",
     "output_type": "stream",
     "text": [
      "[Pipeline] .... (step 1 of 2) Processing column_dropper, total=   0.0s\n",
      "[Pipeline] ............ (step 2 of 2) Processing kmeans, total=   0.2s\n"
     ]
    },
    {
     "data": {
      "image/png": "[encoded data removed]",
      "text/plain": [
       "<Figure size 576x576 with 1 Axes>"
      ]
     },
     "metadata": {},
     "output_type": "display_data"
    },
    {
     "name": "stdout",
     "output_type": "stream",
     "text": [
      "[Pipeline] .... (step 1 of 2) Processing column_dropper, total=   0.0s\n",
      "[Pipeline] ............ (step 2 of 2) Processing kmeans, total=   0.2s\n"
     ]
    },
    {
     "name": "stderr",
     "output_type": "stream",
     "text": [
      "Registered model 'customer_segmentation_reg' already exists. Creating a new version of this model...\n",
      "2022/07/27 05:06:34 INFO mlflow.tracking._model_registry.client: Waiting up to 300 seconds for model version to finish creation.                     Model name: customer_segmentation_reg, version 3\n",
      "Created version '3' of model 'customer_segmentation_reg'.\n"
     ]
    }
   ],
   "source": [
    "mlflow.sklearn.autolog(log_input_examples=True, log_model_signatures=True, silent=True)\n",
    "with mlflow.start_run(run_name=\"kmeans_5\"):\n",
    "    col_dropper = columnDropperTransformer(['customer_id', 'gender', 'age'])\n",
    "    kmeans = KMeans(n_clusters=5,init='k-means++',random_state=30)\n",
    "\n",
    "    pipeline = Pipeline(steps=[\n",
    "        (\"column_dropper\", col_dropper),\n",
    "        (\"kmeans\", kmeans)],\n",
    "        verbose=True\n",
    "    )\n",
    "\n",
    "    Y = pipeline.fit_predict(df)\n",
    "\n",
    "    plt.figure(figsize=(8,8))\n",
    "    plt.scatter(X[Y==0,0],X[Y==0,1],s=50,c='green',label='Cluster 1')\n",
    "    plt.scatter(X[Y==1,0],X[Y==1,1],s=50,c='red',label='Cluster 2')\n",
    "    plt.scatter(X[Y==2,0],X[Y==2,1],s=50,c='yellow',label='Cluster 3')\n",
    "    plt.scatter(X[Y==3,0],X[Y==3,1],s=50,c='violet',label='Cluster 4')\n",
    "    plt.scatter(X[Y==4,0],X[Y==4,1],s=50,c='blue',label='Cluster 5')\n",
    "\n",
    "    # plot the centroids\n",
    "    plt.scatter(kmeans.cluster_centers_[:,0], kmeans.cluster_centers_[:,1],s=100, c='cyan',label='Centroids')\n",
    "    plt.title('Grup Konsumen')\n",
    "    plt.xlabel('Annual Income')\n",
    "    plt.ylabel('Spending Score')\n",
    "    plt.savefig(fname='Cluster Plot')\n",
    "    plt.show()\n",
    "\n",
    "    mlflow.log_artifact(artifact_path=\"Grafik\", local_path='D:\\mlflow\\Backup\\customer segmentation\\Cluster Plot.png')\n",
    "    mlflow.log_artifact(artifact_path=\"Grafik\", local_path='D:\\mlflow\\Backup\\customer segmentation\\Elbow Plot.png')\n",
    "\n",
    "    signatures = infer_signature(df, pipeline.fit_predict(df))\n",
    "\n",
    "    mlflow.sklearn.log_model(\n",
    "        artifact_path='Model',\n",
    "        sk_model = pipeline,\n",
    "        signature = signatures,\n",
    "        code_paths=['D:/mlflow/Backup/customer segmentation/test.ipynb'],\n",
    "        registered_model_name = \"customer_segmentation_reg\"\n",
    "        )"
   ]
  },
  {
   "cell_type": "code",
   "execution_count": 131,
   "metadata": {},
   "outputs": [
    {
     "data": {
      "text/plain": [
       "array([4, 0, 4, 0])"
      ]
     },
     "execution_count": 131,
     "metadata": {},
     "output_type": "execute_result"
    }
   ],
   "source": [
    "Y[0:4]"
   ]
  },
  {
   "cell_type": "code",
   "execution_count": 132,
   "metadata": {},
   "outputs": [
    {
     "data": {
      "text/plain": [
       "<ModelVersion: creation_timestamp=1658873194369, current_stage='Production', description='', last_updated_timestamp=1658873194637, name='customer_segmentation_reg', run_id='35fd8ad44a644d6cb6a29c4b246e8eee', run_link='', source='file:///mlflow/mlruns/3/35fd8ad44a644d6cb6a29c4b246e8eee/artifacts/Model', status='READY', status_message='', tags={}, user_id='', version='3'>"
      ]
     },
     "execution_count": 132,
     "metadata": {},
     "output_type": "execute_result"
    }
   ],
   "source": [
    "#interpreter\n",
    "client = MlflowClient()\n",
    "client.transition_model_version_stage(\n",
    "    name=\"customer_segmentation_reg\",\n",
    "    version=2,\n",
    "    stage=\"None\"\n",
    ")\n",
    "\n",
    "client.transition_model_version_stage(\n",
    "    name=\"customer_segmentation_reg\",\n",
    "    version=3,\n",
    "    stage=\"Production\"\n",
    ")"
   ]
  },
  {
   "cell_type": "code",
   "execution_count": 133,
   "metadata": {},
   "outputs": [],
   "source": [
    "logged_model = 'models:/customer_segmentation_reg/Production'\n",
    "loaded_model = mlflow.sklearn.load_model(logged_model)"
   ]
  },
  {
   "cell_type": "code",
   "execution_count": 134,
   "metadata": {},
   "outputs": [
    {
     "name": "stdout",
     "output_type": "stream",
     "text": [
      "[Pipeline] .... (step 1 of 2) Processing column_dropper, total=   0.0s\n",
      "[Pipeline] ............ (step 2 of 2) Processing kmeans, total=   0.2s\n"
     ]
    },
    {
     "data": {
      "text/plain": [
       "array([4, 0, 4, 0])"
      ]
     },
     "execution_count": 134,
     "metadata": {},
     "output_type": "execute_result"
    }
   ],
   "source": [
    "predictions_serve = loaded_model.fit_predict(df)\n",
    "predictions_serve[0:4]"
   ]
  }
 ],
 "metadata": {
  "kernelspec": {
   "display_name": "Python 3.8.13 ('mlflow_env')",
   "language": "python",
   "name": "python3"
  },
  "language_info": {
   "codemirror_mode": {
    "name": "ipython",
    "version": 3
   },
   "file_extension": ".py",
   "mimetype": "text/x-python",
   "name": "python",
   "nbconvert_exporter": "python",
   "pygments_lexer": "ipython3",
   "version": "3.8.13"
  },
  "orig_nbformat": 4,
  "vscode": {
   "interpreter": {
    "hash": "b41cfe3ec2f3e6d518910cc3f67fc30daa273c36860182e6aea30afe72e33e74"
   }
  }
 },
 "nbformat": 4,
 "nbformat_minor": 2
}
